{
 "cells": [
  {
   "cell_type": "code",
   "execution_count": 89,
   "metadata": {
    "collapsed": true
   },
   "outputs": [],
   "source": [
    "from PyCAR.PyCIT.FT import MeshFlux,MeshPower\n",
    "import numpy as np\n",
    "from PyCAR.PyCIT.FT import GroupFlux\n",
    "from PyCAR.PyCIT.lector_mest_posta import get_reactivity_pro as grp\n",
    "import re\n",
    "import os\n",
    "import matplotlib.pyplot as plt"
   ]
  },
  {
   "cell_type": "code",
   "execution_count": 90,
   "metadata": {},
   "outputs": [
    {
     "data": {
      "text/plain": [
       "'NoobCube1gS'"
      ]
     },
     "execution_count": 90,
     "metadata": {},
     "output_type": "execute_result"
    }
   ],
   "source": [
    "BetaDir='D:\\\\Cube\\\\'\n",
    "#FILENAME = 'NoobCube2gS.cii'\n",
    "FILENAME = 'NoobCube1gS.cii'\n",
    "ROOTFILE = FILENAME.split('.')[0]\n",
    "ROOTFILE"
   ]
  },
  {
   "cell_type": "code",
   "execution_count": 91,
   "metadata": {},
   "outputs": [
    {
     "data": {
      "text/plain": [
       "(1, 44, 22, 32, 1)"
      ]
     },
     "execution_count": 91,
     "metadata": {},
     "output_type": "execute_result"
    }
   ],
   "source": [
    "Nodosx=44\n",
    "Nodosy=22\n",
    "Nodosz=32\n",
    "#Ngrupos=2\n",
    "Ngrupos=1\n",
    "#Flux = MeshFlux(BetaDir+'NoobCube2g.cdb.meshflux',Nodosx,Nodosy,Nodosz,Ngrupos)\n",
    "Flux = MeshFlux(BetaDir+ROOTFILE[:-1]+'.cdb.meshflux',Nodosx,Nodosy,Nodosz,Ngrupos)\n",
    "Flux.shape"
   ]
  },
  {
   "cell_type": "code",
   "execution_count": 92,
   "metadata": {},
   "outputs": [
    {
     "data": {
      "text/plain": [
       "'D:\\\\Cube\\\\NoobCube1g.cdb.meshflux'"
      ]
     },
     "execution_count": 92,
     "metadata": {},
     "output_type": "execute_result"
    }
   ],
   "source": [
    "BetaDir+ROOTFILE[:-1]+'.cdb.meshflux'"
   ]
  },
  {
   "cell_type": "markdown",
   "metadata": {},
   "source": [
    "TODOS ESTOS VALORES FUERON SACADOS DE CONDOR, DEL EC 1.8% CON SEPARADOR"
   ]
  },
  {
   "cell_type": "code",
   "execution_count": 93,
   "metadata": {},
   "outputs": [
    {
     "data": {
      "text/plain": [
       "[0.0200051703]"
      ]
     },
     "execution_count": 93,
     "metadata": {},
     "output_type": "execute_result"
    }
   ],
   "source": [
    "NPRC = 1\n",
    "NOGBIB = Flux.shape[-1]\n",
    "#NuFis=[2.0150E-02]\n",
    "\n",
    "lmks=[0.0124,0.0306,0.1135,0.3071,1.1905,3.1748]\n",
    "Betas=[0.0002170,0.0014979,0.0013778,0.0028296,0.0009288,0.0003314,0.0071826]\n",
    "BetT=Betas[-1]\n",
    "\n",
    "#valor obtenido de NoobCube2g.cii\n",
    "#keff = 1.0005462\n",
    "keff = 1/(1-grp(ROOTFILE[:-1]+'.plt')[-1]/100000)\n",
    "\n",
    "#chi_g=[0.999827,0.000173]\n",
    "chi_g=[0.9999]\n",
    "\n",
    "#NuFis=[2.8132E-03,3.6287E-02]\n",
    "#NuFis=[2.81322002E-03,3.62874009E-02]\n",
    "NuFis=[2.00051703E-02]\n",
    "Abs=[2.02931999E-03,3.27022001E-02]\n",
    "\n",
    "NuFis"
   ]
  },
  {
   "cell_type": "code",
   "execution_count": 94,
   "metadata": {},
   "outputs": [
    {
     "data": {
      "text/plain": [
       "0.0071825000000000005"
      ]
     },
     "execution_count": 94,
     "metadata": {},
     "output_type": "execute_result"
    }
   ],
   "source": [
    "sum(Betas[:-1])"
   ]
  },
  {
   "cell_type": "code",
   "execution_count": 95,
   "metadata": {
    "collapsed": true
   },
   "outputs": [],
   "source": [
    "def Initialize(iterable):\n",
    "    IterM={}#matriz de betas\n",
    "    for state in range(Flux.shape[0]):\n",
    "        IterM[state]={}\n",
    "        for nx in range(Flux.shape[1]):\n",
    "            IterM[state][nx] = {}\n",
    "            for ny in range(Flux.shape[2]):\n",
    "                IterM[state][nx][ny] = {}\n",
    "                for nz in range(Flux.shape[3]):\n",
    "                    IterM[state][nx][ny][nz]= iterable\n",
    "    return IterM\n",
    "\n",
    "if NPRC == 6:\n",
    "    BetaM = Initialize(Betas)#6 grupos de precursores\n",
    "else:\n",
    "    BetaM = Initialize([Betas[-1]])#1 grupo de precursores"
   ]
  },
  {
   "cell_type": "code",
   "execution_count": 96,
   "metadata": {
    "collapsed": true
   },
   "outputs": [],
   "source": [
    "if NPRC == 6:\n",
    "    LmkM = Initialize(lmks)\n",
    "else:\n",
    "    LmkM = Initialize([Betas[-1]/sum([Betas[k]/lmks[k] for k in range(6)])])"
   ]
  },
  {
   "cell_type": "code",
   "execution_count": 97,
   "metadata": {
    "collapsed": true
   },
   "outputs": [],
   "source": [
    "NuFisM = Initialize({group:NuFis[group] for group in range(Flux.shape[-1])})"
   ]
  },
  {
   "cell_type": "markdown",
   "metadata": {},
   "source": [
    "# LA FUENTE SE DA EN NEUTRONES POR SEGUNDO,\n",
    "# NO EN NEUTRONES/CM3\n",
    "\n",
    "SE SUBESTIMA LA CANTIDAD DE PRODUCCIONES"
   ]
  },
  {
   "cell_type": "markdown",
   "metadata": {},
   "source": [
    "GFlux=GroupFlux(BetaDir+'NoobCube2g.cdb.flux')\n",
    "GFlux.shape"
   ]
  },
  {
   "cell_type": "code",
   "execution_count": 98,
   "metadata": {
    "collapsed": true
   },
   "outputs": [],
   "source": [
    "Vmesh = (6*6*6)\n",
    "Vcell = 6*Vmesh"
   ]
  },
  {
   "cell_type": "code",
   "execution_count": 99,
   "metadata": {
    "scrolled": true
   },
   "outputs": [
    {
     "data": {
      "text/plain": [
       "216"
      ]
     },
     "execution_count": 99,
     "metadata": {},
     "output_type": "execute_result"
    }
   ],
   "source": [
    "Vmesh"
   ]
  },
  {
   "cell_type": "markdown",
   "metadata": {},
   "source": [
    "FUENTE FOR DUMMIES, confirmado que devuelve 1 MW"
   ]
  },
  {
   "cell_type": "markdown",
   "metadata": {},
   "source": [
    "kFlux = MeshFlux(BetaDir+'NoobCube2g.cdb.meshflux',Nodosx,Nodosy,Nodosz,Ngrupos)\n",
    "kpower = MeshPower('NoobCube2g.cdb.meshpower',Nodosx,Nodosy,Nodosz)\n",
    "kpower1 = MeshPower('NoobCube1g.cdb.meshpower',Nodosx,Nodosy,Nodosz)\n",
    "\n",
    "FissRate = NuFis[0]*kFlux[:,:,:,:,0]+NuFis[1]*kFlux[:,:,:,:,1]\n",
    "AbssRate = Abs[0]*kFlux[:,:,:,:,0]+Abs[1]*kFlux[:,:,:,:,1]\n",
    "\n",
    "Fissions = FissRate*Vmesh\n",
    "Abssorts = AbssRate*Vmesh\n",
    "\n",
    "Precs = BetT*Fissions\n",
    "\n",
    "NewP = Fissions.sum()\n",
    "NewA = Abssorts.sum()\n",
    "\n",
    "'{:.5e}'.format(NewP)"
   ]
  },
  {
   "cell_type": "markdown",
   "metadata": {},
   "source": [
    "'{:.5e}'.format(NewA)"
   ]
  },
  {
   "cell_type": "markdown",
   "metadata": {},
   "source": [
    "EFis = [3.44858013E-14,4.83173993E-13]\n",
    "FissPower = EFis[0]*kFlux[...,0]+EFis[1]*kFlux[...,1]\n",
    "plt.plot(range(32),FissPower[0,22,11,:],range(32),kpower1[0,22,11,:]/100,'o')\n",
    "plt.show()"
   ]
  },
  {
   "cell_type": "markdown",
   "metadata": {},
   "source": [
    "'{:.5e}'.format((kpower1*Vmesh).sum())"
   ]
  },
  {
   "cell_type": "markdown",
   "metadata": {},
   "source": [
    "$$ Precs_{i} = \\beta_{T}  \\sum_g V_{mesh,i}   \\frac{\\nu\\Sigma_{f,g}}{k_{eff}} \\phi_g, \\beta_{T} = \\sum_k \\beta_k $$\n",
    "$$ C_{i,k,0} = \\frac{\\beta_{k}}{\\lambda_{k}} \\sum_g V_{mesh,i} \\frac{\\nu \\Sigma_{f,g}}{k_{eff}} \\phi_g$$"
   ]
  },
  {
   "cell_type": "code",
   "execution_count": 100,
   "metadata": {
    "collapsed": true,
    "scrolled": false
   },
   "outputs": [],
   "source": [
    "from functools import reduce\n",
    "from operator import add\n",
    "\n",
    "def EForm(*S):\n",
    "    return reduce(add,['{:.8e} '.format(_s) for _s in S])\n",
    "\n",
    "C0 = {}\n",
    "for state in range(Flux.shape[0]):\n",
    "    C0[state]={}\n",
    "    for nx in range(Flux.shape[1]):\n",
    "        C0[state][nx] = {}\n",
    "        for ny in range(Flux.shape[2]):\n",
    "            C0[state][nx][ny] = {}\n",
    "            for nz in range(Flux.shape[3]):\n",
    "                \n",
    "                FluxL = [Flux[state,nx,ny,nz,group] for group in range(Flux.shape[-1])]\n",
    "                NuFisL= [NuFisM[state][nx][ny][nz][group]/keff for group in range(Flux.shape[-1])]\n",
    "                Nu_FluxM=[NuFisL[group]*FluxL[group]*Vmesh for group in range(Flux.shape[-1])]\n",
    "    \n",
    "                Bet_k = BetaM[state][nx][ny][nz]\n",
    "                Lamb_k = LmkM[state][nx][ny][nz]\n",
    "                Nu_Flux = sum(Nu_FluxM)\n",
    "    \n",
    "                C0[state][nx][ny][nz] = [Bet_k[prec]*Nu_Flux/Lamb_k[prec]\\\n",
    "                                              for prec in range(NPRC)]#leve error numerico sin introducir lambda\n",
    "                \n",
    "                \n",
    "                #if nx == Ix and ny == Iy and nz == Iz:\n",
    "                    #print(EForm(*FluxL))\n",
    "                    #print(EForm(*NuFisL))\n",
    "                    #print(EForm(*Nu_FluxM))\n",
    "                    #print(EForm(Nu_Flux))\n",
    "                    #print(EForm(Fissions[state,nx,ny,nz]))\n",
    "                    \n",
    "                    #Decays = [ LmkM[state][nx][ny][nz][prc]*C0[state][nx][ny][nz][prc]\\\n",
    "                    #          for prc in range(NPRC)]\n",
    "                    \n",
    "                    #print(EForm(Precs[state,nx,ny,nz]))\n",
    "                    #print(EForm(sum(Decays)))\n",
    "                    \n",
    "                    #print(Bet_k)\n",
    "                    #print('{:.8e}'.format(Nu_FluxM[1]))\n",
    "                    #print(Lamb_k)"
   ]
  },
  {
   "cell_type": "markdown",
   "metadata": {},
   "source": [
    "alf=np.array(list(C0[0][22][11].values()))\n",
    "lmkr=np.array(lmks)\n",
    "print(EForm((lmkr*alf).sum(axis=1)[Iz]))"
   ]
  },
  {
   "cell_type": "markdown",
   "metadata": {},
   "source": [
    "SE VERIFICA QUE EL CALCULO DE PRECURSORES ES CORRECTO"
   ]
  },
  {
   "cell_type": "markdown",
   "metadata": {},
   "source": [
    "import matplotlib.pyplot as plt\n",
    "alf=lmkr*alf\n",
    "plt.plot(range(32),alf.sum(axis=1),'-')\n",
    "plt.plot(range(32),Precs[0,22,11,:],'o')\n",
    "plt.show()"
   ]
  },
  {
   "cell_type": "markdown",
   "metadata": {},
   "source": [
    "$$ C_{i,k,t} = C_{i,k,t-1} e^{-\\lambda_k \\delta t} + \\frac{\\beta_k}{\\lambda_k} \\sum_g V_{mesh,i} \\nu \\Sigma_{f,i,g} \\phi_{i,g,t-1} (1-e^{-\\lambda \\delta t})$$"
   ]
  },
  {
   "cell_type": "code",
   "execution_count": 101,
   "metadata": {
    "collapsed": true
   },
   "outputs": [],
   "source": [
    "def PrecCalc(C_t_1,Flux,NuFisM,Vmesh,dt):\n",
    "    C_t = {}\n",
    "    state = 0 #hace falta definir un estado\n",
    "    C_t[state] = {}\n",
    "    for nx in range(Flux.shape[1]):\n",
    "        C_t[state][nx] = {}\n",
    "        for ny in range(Flux.shape[2]):\n",
    "            C_t[state][nx][ny] = {}\n",
    "            for nz in range(Flux.shape[3]):\n",
    "                \n",
    "                FluxL = [Flux[state,nx,ny,nz,group] for group in range(Flux.shape[-1])]\n",
    "                NuFisL= [NuFisM[state][nx][ny][nz][group] for group in range(Flux.shape[-1])]\n",
    "                \n",
    "                Bet_k = BetaM[state][nx][ny][nz]\n",
    "                Lamb_k = LmkM[state][nx][ny][nz]\n",
    "                _c_t_1 = C_t_1[state][nx][ny][nz]\n",
    "                \n",
    "                Nu_FluxM=[NuFisL[group]*FluxL[group]*Vmesh for group in range(Flux.shape[-1])]\n",
    "                Nu_Flux = sum(Nu_FluxM)\n",
    "                \n",
    "                C_t[state][nx][ny][nz] = [ _c_t_1[prec]*np.exp(-Lamb_k[prec]*dt) + \\\n",
    "                                           Bet_k[prec]/Lamb_k[prec]*Nu_Flux*(1-np.exp(-Lamb_k[prec]*dt))\\\n",
    "                                            for prec in range(NPRC)]\n",
    "    return C_t"
   ]
  },
  {
   "cell_type": "code",
   "execution_count": 102,
   "metadata": {},
   "outputs": [
    {
     "data": {
      "text/plain": [
       "1.00173299808669"
      ]
     },
     "execution_count": 102,
     "metadata": {},
     "output_type": "execute_result"
    }
   ],
   "source": [
    "keff"
   ]
  },
  {
   "cell_type": "code",
   "execution_count": 103,
   "metadata": {
    "collapsed": true
   },
   "outputs": [],
   "source": [
    "import re\n",
    "p=re.compile('POWER\\(WATTS\\)\\s+([0-9]\\.[0-9]{5}E\\+[0-9]{2})')\n",
    "import os\n",
    "powers=[[1e+06]]"
   ]
  },
  {
   "cell_type": "code",
   "execution_count": null,
   "metadata": {
    "collapsed": true,
    "scrolled": true
   },
   "outputs": [],
   "source": [
    "Q={}\n",
    "EQUILIBRIUM=True\n",
    "\n",
    "\n",
    "dt=0.001\n",
    "tfinal=10\n",
    "\n",
    "for t in np.arange(0,tfinal,dt):\n",
    "    if EQUILIBRIUM:\n",
    "        C_t_1 = C0.copy()\n",
    "        C_t = C0.copy()\n",
    "    else:\n",
    "        TFlux = MeshFlux(ROOTFILE+'.cdb.meshflux',Nodosx,Nodosy,Nodosz,Ngrupos)\n",
    "        C_t = PrecCalc(C_t_1,TFlux,NuFisM,Vmesh,dt)\n",
    "        C_t_1 = C_t.copy()\n",
    "    for group in range(Flux.shape[-1]):\n",
    "        Q[group]={}\n",
    "        for state in range(Flux.shape[0]):\n",
    "            Q[group][state]={}\n",
    "            for nx in range(Flux.shape[1]):\n",
    "                Q[group][state][nx] = {}\n",
    "                for ny in range(Flux.shape[2]):\n",
    "                    Q[group][state][nx][ny] = {}\n",
    "                    for nz in range(Flux.shape[3]):\n",
    "                        _Lmk= LmkM[state][nx][ny][nz]\n",
    "                        _C  = C_t[state][nx][ny][nz]\n",
    "                        Q[group][state][nx][ny][nz] = chi_g[group]*sum([ _Lmk[prc]*_C[prc] for prc in range(NPRC)])\n",
    "                        #de la fuente for dummies\n",
    "                        #Q[group][state][nx][ny][nz] = chi_g[group]*Precs[state,nx,ny,nz]\n",
    "\n",
    "    with open('source.dat','w') as fod:\n",
    "        for group in range(NOGBIB):\n",
    "            for state in range(Flux.shape[0]):\n",
    "                for nz in range(Flux.shape[3]):\n",
    "                    for ny in range(Flux.shape[2]):\n",
    "                        for nx in range(Flux.shape[1]):\n",
    "                            fod.write('{:15.7E}'.format(Q[group][state][nx][ny][nz])) \n",
    "            fod.write('\\n')\n",
    "\n",
    "    #!ejecutar_fuente.bat\n",
    "    #os.system('ejecutar_fuente.bat')\n",
    "    os.system('ExSource.bat '+FILENAME+' '+str(Ngrupos))\n",
    "    #os.system('timeout /T 2')\n",
    "    fid = open(ROOTFILE+'.cio','r')\n",
    "    powers.append([pi.groups()[0] for pi in p.finditer(fid.read())])\n",
    "    fid.close()\n",
    "    if EQUILIBRIUM: \n",
    "        EQUILIBRIUM = False\n",
    "        #break\n",
    "        #print(powers)"
   ]
  },
  {
   "cell_type": "code",
   "execution_count": null,
   "metadata": {
    "collapsed": true
   },
   "outputs": [],
   "source": [
    "fid = open('SoutN.dat','w')\n",
    "fid.write(str(powers))\n",
    "fid.close()\n",
    "os.system('python temp.py')\n",
    "os.system('shutdown /s')"
   ]
  },
  {
   "cell_type": "code",
   "execution_count": 22,
   "metadata": {},
   "outputs": [
    {
     "data": {
      "text/plain": [
       "0.992817368678105"
      ]
     },
     "execution_count": 22,
     "metadata": {},
     "output_type": "execute_result"
    }
   ],
   "source": [
    "#Nufis1 = np.array([2.79301382E-03,3.60267647E-02])\n",
    "XS0 = np.array([1.78897996E-02,2.01498996E-02,0.278627604,2.66850994E-13,0.00000000E+00,0.00000000E+00,0.471111000])\n",
    "XS1 = np.array([1.78897996E-02,2.00051703E-02,0.278627604,2.66850994E-13,0.00000000E+00,0.00000000E+00,0.471111000])\n",
    "XS1[1]/XS0[1]"
   ]
  },
  {
   "cell_type": "code",
   "execution_count": 23,
   "metadata": {},
   "outputs": [
    {
     "data": {
      "text/plain": [
       "array([0.99281741, 0.99281745])"
      ]
     },
     "execution_count": 23,
     "metadata": {},
     "output_type": "execute_result"
    }
   ],
   "source": [
    "XS0 = np.array([2.02931999E-03,3.27022001E-02,2.81322002E-03,3.62874009E-02,0.177189037,0.584043205,3.44858013E-14,4.83173993E-13,0.00000000E+00,0.00000000E+00,0.00000000E+00,0.00000000E+00,0.171894997,3.54918987E-02,0.00000000E+00,0.707484007])\n",
    "XS1 = np.array([2.02931999E-03,3.27022001E-02,2.79301382E-03,3.60267647E-02,0.177189037,0.584043205,3.44858013E-14,4.83173993E-13,0.00000000E+00,0.00000000E+00,0.00000000E+00,0.00000000E+00,0.171894997,3.54918987E-02,0.00000000E+00,0.707484007])\n",
    "XS1[NOGBIB:2*NOGBIB]/XS0[NOGBIB:2*NOGBIB]"
   ]
  },
  {
   "cell_type": "code",
   "execution_count": 88,
   "metadata": {},
   "outputs": [
    {
     "data": {
      "text/plain": [
       "0.007190888859989965"
      ]
     },
     "execution_count": 88,
     "metadata": {},
     "output_type": "execute_result"
    }
   ],
   "source": [
    "+5.374689E+16\n",
    "1- (9.78897E+18)/9.84272E+18 + grp(ROOTFILE[:-1]+'.plt')[-1]/100000"
   ]
  },
  {
   "cell_type": "code",
   "execution_count": 44,
   "metadata": {},
   "outputs": [
    {
     "data": {
      "text/plain": [
       "1.1263345621825747"
      ]
     },
     "execution_count": 44,
     "metadata": {},
     "output_type": "execute_result"
    }
   ],
   "source": [
    "2.01498996E-02/1.78897996E-02 "
   ]
  },
  {
   "cell_type": "code",
   "execution_count": 24,
   "metadata": {},
   "outputs": [
    {
     "ename": "NameError",
     "evalue": "name 'value' is not defined",
     "output_type": "error",
     "traceback": [
      "\u001b[1;31m---------------------------------------------------------------------------\u001b[0m",
      "\u001b[1;31mNameError\u001b[0m                                 Traceback (most recent call last)",
      "\u001b[1;32m<ipython-input-24-90e6b6e79314>\u001b[0m in \u001b[0;36m<module>\u001b[1;34m()\u001b[0m\n\u001b[0;32m      3\u001b[0m \u001b[1;33m\u001b[0m\u001b[0m\n\u001b[0;32m      4\u001b[0m \u001b[1;31m#value = powa.pop(1)\u001b[0m\u001b[1;33m\u001b[0m\u001b[1;33m\u001b[0m\u001b[1;33m\u001b[0m\u001b[0m\n\u001b[1;32m----> 5\u001b[1;33m \u001b[0mindx\u001b[0m \u001b[1;33m=\u001b[0m \u001b[0mpowa\u001b[0m\u001b[1;33m.\u001b[0m\u001b[0mindex\u001b[0m\u001b[1;33m(\u001b[0m\u001b[0mvalue\u001b[0m\u001b[1;33m)\u001b[0m\u001b[1;33m\u001b[0m\u001b[1;33m\u001b[0m\u001b[0m\n\u001b[0m\u001b[0;32m      6\u001b[0m \u001b[1;33m\u001b[0m\u001b[0m\n\u001b[0;32m      7\u001b[0m \u001b[0mpowa\u001b[0m \u001b[1;33m=\u001b[0m \u001b[1;33m[\u001b[0m\u001b[1;36m1e+06\u001b[0m\u001b[1;33m]\u001b[0m\u001b[1;33m+\u001b[0m\u001b[0mpowa\u001b[0m\u001b[1;33m[\u001b[0m\u001b[0mindx\u001b[0m\u001b[1;33m:\u001b[0m\u001b[1;33m]\u001b[0m\u001b[1;33m\u001b[0m\u001b[1;33m\u001b[0m\u001b[0m\n",
      "\u001b[1;31mNameError\u001b[0m: name 'value' is not defined"
     ]
    }
   ],
   "source": [
    "powa = reduce(add,powers)\n",
    "powa=list(map(float,powa))\n",
    "\n",
    "#value = powa.pop(1)\n",
    "indx = powa.index(value)\n",
    "\n",
    "powa = [1e+06]+powa[indx:]\n",
    "plt.plot(np.r_[0.0,np.arange(0,tfinal,dt)],powa,'-o')\n",
    "#plt.plot(powa,'o')\n",
    "plt.show()\n"
   ]
  },
  {
   "cell_type": "code",
   "execution_count": null,
   "metadata": {
    "collapsed": true
   },
   "outputs": [],
   "source": [
    "powb = zip(np.r_[0.0,np.arange(0,tfinal,dt)],\\\n",
    "           powa)\n",
    "\n",
    "with open('Sout2.dat','w') as fod:\n",
    "    fod.write(reduce(add,map(lambda p:'{0:.2f} {1}\\n'.format(p[0],p[1]),powb)))\n",
    "len(powa)"
   ]
  },
  {
   "cell_type": "code",
   "execution_count": null,
   "metadata": {
    "collapsed": true
   },
   "outputs": [],
   "source": [
    "len(powa)"
   ]
  },
  {
   "cell_type": "code",
   "execution_count": null,
   "metadata": {
    "collapsed": true
   },
   "outputs": [],
   "source": [
    "powa"
   ]
  },
  {
   "cell_type": "code",
   "execution_count": null,
   "metadata": {
    "collapsed": true,
    "scrolled": true
   },
   "outputs": [],
   "source": [
    "plt.plot([powa[t+1]/powa[t] for t in range(len(powa)-1)])\n",
    "plt.show()"
   ]
  },
  {
   "cell_type": "code",
   "execution_count": null,
   "metadata": {
    "collapsed": true
   },
   "outputs": [],
   "source": [
    "dt=0.01\n",
    "tfinal=7\n",
    "np.arange(0,tfinal,dt)"
   ]
  },
  {
   "cell_type": "markdown",
   "metadata": {},
   "source": [
    " NUMBER OF---COLUMNS, ROWS, PLANES, GROUPS, UPSCAT, DOWNSCAT, REGIONS, AND ZONES      44  22  32   1   0   0  29040   1999\n"
   ]
  },
  {
   "cell_type": "raw",
   "metadata": {},
   "source": [
    " > 0 Specifies that the whole space-energy fixed source is provided on an I/O device (logical 17) in the form:\n",
    " starting with the highest energy, the source (neutrons/sec) at each space point is given by,\n",
    "     DO 1 K = 1,KMAX\n",
    "     READ(17)(((S(J,I,KB),J=1,JMAX),I=1,IMAX),\n",
    "         KB=1,KBMAX)\n",
    "1    CONTINUE\n",
    " \n",
    " where J indexes along rows, I along columns, and KB through the planes.\n",
    " No more data cards are required."
   ]
  },
  {
   "cell_type": "raw",
   "metadata": {},
   "source": [
    "Q0={0: Q,\\\n",
    "    1: [[[[0.0 if Flux[state,nx,ny,nz,1] != 0 else 0.0\\\n",
    "                    for nz in range(Flux.shape[3])]\\\n",
    "                    for ny in range(Flux.shape[2])]\\\n",
    "                    for nx in range(Flux.shape[1])] \\\n",
    "                    for state in range(Flux.shape[0])]}\n",
    "\n",
    "#se está suponiendo una fuente que aparece en un solo grupo"
   ]
  },
  {
   "cell_type": "markdown",
   "metadata": {},
   "source": [
    "TOTAL FIXED SOURCE   5.421056E+14 N/SEC"
   ]
  }
 ],
 "metadata": {
  "kernelspec": {
   "display_name": "Python 3",
   "language": "python",
   "name": "python3"
  },
  "language_info": {
   "codemirror_mode": {
    "name": "ipython",
    "version": 3
   },
   "file_extension": ".py",
   "mimetype": "text/x-python",
   "name": "python",
   "nbconvert_exporter": "python",
   "pygments_lexer": "ipython3",
   "version": "3.7.4"
  }
 },
 "nbformat": 4,
 "nbformat_minor": 2
}
